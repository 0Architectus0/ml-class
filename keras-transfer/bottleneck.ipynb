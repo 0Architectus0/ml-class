{
 "cells": [
  {
   "cell_type": "code",
   "execution_count": 1,
   "metadata": {},
   "outputs": [
    {
     "name": "stderr",
     "output_type": "stream",
     "text": [
      "Using TensorFlow backend.\n"
     ]
    }
   ],
   "source": [
    "import numpy as np\n",
    "from keras.preprocessing.image import ImageDataGenerator\n",
    "from keras.models import Sequential\n",
    "from keras.layers import Dropout, Flatten, Dense\n",
    "from keras.applications.vgg16 import VGG16, preprocess_input\n",
    "from dogcat_data import generators, get_nb_files\n",
    "import matplotlib.pyplot as plt\n",
    "\n",
    "top_model_weights_path = 'bottleneck_fc_model.h5'\n",
    "train_dir = 'dogcat-data/train'\n",
    "validation_dir = 'dogcat-data/validation'\n",
    "nb_train_samples = 1000\n",
    "nb_validation_samples = 1000"
   ]
  },
  {
   "cell_type": "code",
   "execution_count": 19,
   "metadata": {},
   "outputs": [
    {
     "name": "stdout",
     "output_type": "stream",
     "text": [
      "Found 1800 images belonging to 2 classes.\n",
      "(40, 7, 7, 512)\n"
     ]
    },
    {
     "data": {
      "image/png": "[encoded data removed]",
      "text/plain": [
       "<Figure size 720x720 with 9 Axes>"
      ]
     },
     "metadata": {
      "needs_background": "light"
     },
     "output_type": "display_data"
    }
   ],
   "source": [
    "datagen = ImageDataGenerator(preprocessing_function=preprocess_input)\n",
    "\n",
    "# build the VGG16 network\n",
    "model = VGG16(include_top=False, weights='imagenet')\n",
    "generator = datagen.flow_from_directory(\n",
    "        train_dir,\n",
    "        target_size=(224, 224),\n",
    "        batch_size=40,\n",
    "        class_mode='binary')\n",
    "images, labels = next(generator)\n",
    "features = model.predict(images)\n",
    "plt.rcParams['figure.figsize'] = (10,10)\n",
    "for i in range(9):\n",
    "    feature = np.sum(features[i], 2)\n",
    "    feature *= 255.0 / feature.max()\n",
    "    plt.subplot(3,3,i+1)\n",
    "    plt.imshow(feature, cmap='gray',)\n",
    "    plt.title(\"label {}\".format(\"cat\" if labels[i] else \"dog\"))\n",
    "    plt.axis('off')"
   ]
  },
  {
   "cell_type": "code",
   "execution_count": null,
   "metadata": {},
   "outputs": [],
   "source": []
  }
 ],
 "metadata": {
  "kernelspec": {
   "display_name": "Python 3",
   "language": "python",
   "name": "python3"
  },
  "language_info": {
   "codemirror_mode": {
    "name": "ipython",
    "version": 3
   },
   "file_extension": ".py",
   "mimetype": "text/x-python",
   "name": "python",
   "nbconvert_exporter": "python",
   "pygments_lexer": "ipython3",
   "version": "3.6.6"
  }
 },
 "nbformat": 4,
 "nbformat_minor": 2
}
